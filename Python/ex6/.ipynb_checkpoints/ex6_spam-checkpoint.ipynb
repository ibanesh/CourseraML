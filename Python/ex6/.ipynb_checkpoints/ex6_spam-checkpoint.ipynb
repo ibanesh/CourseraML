{
 "cells": [
  {
   "cell_type": "code",
   "execution_count": 1,
   "metadata": {
    "collapsed": true
   },
   "outputs": [],
   "source": [
    "import numpy as np\n",
    "import matplotlib.pyplot as plt\n",
    "import scipy.io as sio\n",
    "from sklearn import svm\n",
    "%matplotlib inline"
   ]
  },
  {
   "cell_type": "code",
   "execution_count": 2,
   "metadata": {
    "collapsed": true
   },
   "outputs": [],
   "source": [
    "data = sio.loadmat('spamTrain.mat')\n",
    "X = data['X']\n",
    "y = data['y'].ravel()"
   ]
  },
  {
   "cell_type": "code",
   "execution_count": 3,
   "metadata": {},
   "outputs": [
    {
     "data": {
      "text/plain": [
       "0.99824999999999997"
      ]
     },
     "execution_count": 3,
     "metadata": {},
     "output_type": "execute_result"
    }
   ],
   "source": [
    "svc = svm.SVC(C=0.1,kernel='linear')\n",
    "svc.fit(X,y)\n",
    "svc.score(X,y)"
   ]
  },
  {
   "cell_type": "code",
   "execution_count": 4,
   "metadata": {},
   "outputs": [
    {
     "data": {
      "text/plain": [
       "0.98899999999999999"
      ]
     },
     "execution_count": 4,
     "metadata": {},
     "output_type": "execute_result"
    }
   ],
   "source": [
    "data = sio.loadmat('spamTest.mat')\n",
    "Xtest = data['Xtest']\n",
    "ytest = data['ytest']\n",
    "svc.score(Xtest,ytest)"
   ]
  },
  {
   "cell_type": "code",
   "execution_count": 5,
   "metadata": {},
   "outputs": [
    {
     "name": "stdout",
     "output_type": "stream",
     "text": [
      "our 0.500613736175\n",
      "click 0.465916390689\n",
      "remov 0.422869117061\n",
      "guarante 0.383621601794\n",
      "visit 0.367710398246\n",
      "basenumb 0.345064097946\n",
      "dollar 0.323632035796\n",
      "will 0.269724106037\n",
      "price 0.267297714618\n",
      "pleas 0.2611688867\n",
      "most 0.257298197952\n",
      "nbsp 0.25394145516\n",
      "lo 0.253466524314\n",
      "ga 0.248296990456\n",
      "hour 0.246404357832\n",
      "al 0.237310668172\n",
      "da 0.233261215232\n",
      "se 0.23295496246\n",
      "want 0.23194709266\n",
      "dollarnumb 0.229639162845\n"
     ]
    }
   ],
   "source": [
    "sorted_idx = np.argsort(-svc.coef_).ravel()\n",
    "weight = svc.coef_.ravel()\n",
    "import pandas as pd\n",
    "data = pd.read_csv('vocab.txt',header=None,delim_whitespace=True)\n",
    "for i in xrange(20):\n",
    "    print data[1][sorted_idx[i]], weight[sorted_idx[i]]"
   ]
  },
  {
   "cell_type": "code",
   "execution_count": null,
   "metadata": {
    "collapsed": true
   },
   "outputs": [],
   "source": []
  }
 ],
 "metadata": {
  "kernelspec": {
   "display_name": "CourseraML",
   "language": "python",
   "name": "courseraml"
  },
  "language_info": {
   "codemirror_mode": {
    "name": "ipython",
    "version": 2
   },
   "file_extension": ".py",
   "mimetype": "text/x-python",
   "name": "python",
   "nbconvert_exporter": "python",
   "pygments_lexer": "ipython2",
   "version": "2.7.13"
  }
 },
 "nbformat": 4,
 "nbformat_minor": 2
}
