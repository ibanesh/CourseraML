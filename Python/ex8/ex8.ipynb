{
 "cells": [
  {
   "cell_type": "code",
   "execution_count": 1,
   "metadata": {
    "collapsed": true
   },
   "outputs": [],
   "source": [
    "import numpy as np\n",
    "import scipy.io as sio\n",
    "import pandas as pd\n",
    "import matplotlib.pyplot as plt"
   ]
  },
  {
   "cell_type": "code",
   "execution_count": 2,
   "metadata": {},
   "outputs": [],
   "source": [
    "data = sio.loadmat('ex8data2.mat')\n",
    "X = data['X']\n",
    "Xval = data['Xval']\n",
    "yval = data['yval']"
   ]
  },
  {
   "cell_type": "code",
   "execution_count": 3,
   "metadata": {
    "collapsed": true
   },
   "outputs": [],
   "source": [
    "def estimateGaussian(X):\n",
    "    mu = X.mean(0)\n",
    "    Sig2 = X.var(0)\n",
    "    return mu,Sig2\n",
    "\n",
    "mu,Sig2 = estimateGaussian(X)"
   ]
  },
  {
   "cell_type": "code",
   "execution_count": 4,
   "metadata": {},
   "outputs": [
    {
     "name": "stdout",
     "output_type": "stream",
     "text": [
      "[  5.14552429e-22   1.73600598e-17   8.51895576e-17   9.21085621e-20\n",
      "   1.37722883e-15   1.48593323e-16   2.77589268e-19   1.25973491e-17\n",
      "   4.20303190e-16   6.71974213e-16]\n"
     ]
    }
   ],
   "source": [
    "def multivariateGaussian(X,mu,Sig2):\n",
    "    k = len(mu)\n",
    "    if Sig2.ndim < 2 or Sig2.shape[1] == 1:\n",
    "        Sig2 = np.diagflat(Sig2)\n",
    "    X = X - mu\n",
    "    p = (((2.0*np.pi)**(-k/2.0)) * (np.linalg.det(Sig2)**(-0.5)))*np.exp(-0.5*np.sum(X.dot(np.linalg.pinv(Sig2))*X,1))\n",
    "    return p\n",
    "\n",
    "p = multivariateGaussian(X,mu,Sig2)\n",
    "pval = multivariateGaussian(Xval,mu,Sig2)\n",
    "print pval[:10]"
   ]
  },
  {
   "cell_type": "markdown",
   "metadata": {},
   "source": [
    "note : np.sum(X.dot(np.linalg.pinv(Sig2))*X,1) -> after doing X*(Sig2^-1), we want to vector multiply each row of the result with each row in X. This is done here with element wise multiplication and sum. "
   ]
  },
  {
   "cell_type": "code",
   "execution_count": 5,
   "metadata": {},
   "outputs": [
    {
     "name": "stdout",
     "output_type": "stream",
     "text": [
      "1.3786074982e-18 0.615384615385\n"
     ]
    },
    {
     "name": "stderr",
     "output_type": "stream",
     "text": [
      "/Users/Abinesh/Virtualenvs/CourseraML/lib/python2.7/site-packages/ipykernel_launcher.py:12: RuntimeWarning: invalid value encountered in divide\n",
      "  if sys.path[0] == '':\n"
     ]
    }
   ],
   "source": [
    "def selectThreshold(yval,pval):\n",
    "    bestEpsilon = 0\n",
    "    bestF1 = 0\n",
    "    for epsilon in np.linspace(np.min(pval),np.max(pval),1000):\n",
    "        predictions = pval < epsilon\n",
    "        pos = np.argwhere(predictions)\n",
    "        neg = np.argwhere(predictions==0)\n",
    "        TP = np.sum(yval[pos]) #True positive\n",
    "        FP = len(pos) - TP # or np.sum(yval[pos]==0) # False positive\n",
    "        FN = np.sum(yval[neg]) #False negative\n",
    "        TN = len(neg) - FN # or np.sum(yval[neg]==0) # True negative\n",
    "        prec = TP/float(TP+FP) #precision\n",
    "        rec = TP/float(TP+FN) #recall\n",
    "        F1 = 2.0*prec*rec/float(prec+rec)\n",
    "        if F1 > bestF1:\n",
    "            bestF1 = F1\n",
    "            bestEpsilon = epsilon\n",
    "    return bestEpsilon, bestF1\n",
    "\n",
    "epsilon, F1 = selectThreshold(yval,pval)\n",
    "print epsilon,F1"
   ]
  },
  {
   "cell_type": "code",
   "execution_count": null,
   "metadata": {
    "collapsed": true
   },
   "outputs": [],
   "source": []
  }
 ],
 "metadata": {
  "kernelspec": {
   "display_name": "CourseraML",
   "language": "python",
   "name": "courseraml"
  },
  "language_info": {
   "codemirror_mode": {
    "name": "ipython",
    "version": 2
   },
   "file_extension": ".py",
   "mimetype": "text/x-python",
   "name": "python",
   "nbconvert_exporter": "python",
   "pygments_lexer": "ipython2",
   "version": "2.7.13"
  }
 },
 "nbformat": 4,
 "nbformat_minor": 2
}
