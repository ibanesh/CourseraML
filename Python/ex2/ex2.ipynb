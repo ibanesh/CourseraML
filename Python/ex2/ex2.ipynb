{
 "cells": [
  {
   "cell_type": "code",
   "execution_count": 22,
   "metadata": {
    "collapsed": true
   },
   "outputs": [],
   "source": [
    "import numpy as np\n",
    "import pandas as pd\n",
    "import matplotlib.pyplot as plt\n",
    "import scipy.optimize as opt\n",
    "import os\n",
    "%matplotlib inline"
   ]
  },
  {
   "cell_type": "code",
   "execution_count": 23,
   "metadata": {
    "collapsed": true
   },
   "outputs": [],
   "source": [
    "data = pd.read_csv('ex2data1.txt',header=None,names=['Exam 1','Exam 2','Admitted'])\n",
    "pos = np.where(data['Admitted'] == 1)\n",
    "neg = np.where(data['Admitted'] == 0)\n",
    "X = data.iloc[:,0:2]\n",
    "y = data.iloc[:,2]\n",
    "X = X.values\n",
    "X = np.concatenate((np.ones((len(X),1)),X),axis = 1)\n",
    "y = y.values\n",
    "m = len(X)\n",
    "#data = np.loadtxt('ex2data1.txt', delimiter=',')\n",
    "theta = np.zeros(3)"
   ]
  },
  {
   "cell_type": "code",
   "execution_count": 24,
   "metadata": {
    "collapsed": true
   },
   "outputs": [],
   "source": [
    "def sigmoid(z):\n",
    "    return 1/(1+np.exp(-z))"
   ]
  },
  {
   "cell_type": "code",
   "execution_count": 25,
   "metadata": {
    "collapsed": true
   },
   "outputs": [],
   "source": [
    "def costFunction(theta,X,y):\n",
    "    m = X.shape[0]\n",
    "    h = np.squeeze(sigmoid(X.dot(theta)))\n",
    "    return (1.0/m)*(-y.dot(np.log(h))-(1-y).dot(np.log(1-h)))"
   ]
  },
  {
   "cell_type": "code",
   "execution_count": 26,
   "metadata": {
    "collapsed": true
   },
   "outputs": [],
   "source": [
    "def gradient(theta,X,y):\n",
    "    m = X.shape[0]\n",
    "    h = np.squeeze(sigmoid(X.dot(theta)))\n",
    "    return (1.0/m)*(X.T.dot(h-y))"
   ]
  },
  {
   "cell_type": "code",
   "execution_count": 27,
   "metadata": {},
   "outputs": [
    {
     "name": "stdout",
     "output_type": "stream",
     "text": [
      "Optimization terminated successfully.\n",
      "         Current function value: 0.203498\n",
      "         Iterations: 23\n",
      "         Function evaluations: 31\n",
      "         Gradient evaluations: 31\n"
     ]
    },
    {
     "name": "stderr",
     "output_type": "stream",
     "text": [
      "/Users/Abinesh/Virtualenvs/CourseraML/lib/python2.7/site-packages/ipykernel_launcher.py:4: RuntimeWarning: divide by zero encountered in log\n",
      "  after removing the cwd from sys.path.\n"
     ]
    }
   ],
   "source": [
    "opt_theta = opt.fmin_bfgs(f=costFunction, x0=theta, fprime=gradient, args=(X,y))\n",
    "# opt.fmin_tnc(func=costFunction, x0=theta, fprime=gradient, args=(X,y))"
   ]
  },
  {
   "cell_type": "code",
   "execution_count": 28,
   "metadata": {},
   "outputs": [
    {
     "data": {
      "text/plain": [
       "<matplotlib.text.Text at 0x114bbb250>"
      ]
     },
     "execution_count": 28,
     "metadata": {},
     "output_type": "execute_result"
    },
    {
     "data": {
      "image/png": "[encoded data removed]",
      "text/plain": [
       "<matplotlib.figure.Figure at 0x114ae7050>"
      ]
     },
     "metadata": {},
     "output_type": "display_data"
    }
   ],
   "source": [
    "plt.scatter(X[pos,1],X[pos,2],marker='+',color='b')\n",
    "plt.scatter(X[neg,1],X[neg,2],marker='o',color='r')\n",
    "points = np.array([min(X[:,1])-2,max(X[:,1])+2])\n",
    "plt.plot(points,(-1.0/opt_theta[1])*(opt_theta[0]+ opt_theta[2]*points))\n",
    "plt.xlabel(\"Exam 1 score\")\n",
    "plt.ylabel('Exam 2 score')"
   ]
  },
  {
   "cell_type": "code",
   "execution_count": 29,
   "metadata": {},
   "outputs": [
    {
     "name": "stdout",
     "output_type": "stream",
     "text": [
      "Train Accuracy: \n",
      "89.0\n"
     ]
    }
   ],
   "source": [
    "def predict(theta,X):\n",
    "    return (sigmoid(X.dot(theta)) >= 0.5)\n",
    "\n",
    "p = predict(opt_theta,X)\n",
    "print \"Train Accuracy: \"\n",
    "print np.mean(p==y)*100"
   ]
  },
  {
   "cell_type": "code",
   "execution_count": 30,
   "metadata": {
    "collapsed": true
   },
   "outputs": [],
   "source": [
    "data = pd.read_csv('ex2data2.txt',header=None,names=['Exam 1','Exam 2','Admitted'])\n",
    "pos = np.where(data['Admitted'] == 1)\n",
    "neg = np.where(data['Admitted'] == 0)\n",
    "X = data.iloc[:,0:2]\n",
    "y = data.iloc[:,2]\n",
    "X = X.values\n",
    "y = y.values\n",
    "m = len(X)\n",
    "lam = 1.0"
   ]
  },
  {
   "cell_type": "code",
   "execution_count": 31,
   "metadata": {
    "collapsed": true
   },
   "outputs": [],
   "source": [
    "def mapFeature(X1,X2,degree):\n",
    "    X1 = X1.reshape((X1.size,1))\n",
    "    X2 = X2.reshape((X2.size,1))\n",
    "    res = np.ones((len(X1),1))\n",
    "    for i in xrange(1,degree+1):\n",
    "        for j in xrange(0,i+1):\n",
    "            res = np.concatenate((res,(X1**(i-j))*(X2**j)),axis=1)\n",
    "    return res\n",
    "    \n",
    "\n",
    "X = mapFeature(X[:,0],X[:,1],6)"
   ]
  },
  {
   "cell_type": "code",
   "execution_count": 32,
   "metadata": {
    "collapsed": true
   },
   "outputs": [],
   "source": [
    "def costFunctionReg(theta,X,y,lam):\n",
    "    h = np.squeeze(sigmoid(X.dot(theta)))\n",
    "    return (1.0/m)*(-y.dot(np.log(h))-(1-y).dot(np.log(1-h))) + ((lam/(2*m))*(sum(theta[1:]**2)))\n",
    "\n",
    "def gradientReg(theta,X,y,lam):\n",
    "    h = np.squeeze(sigmoid(X.dot(theta)))\n",
    "    return (1.0/m)*(X.T.dot(h-y)) + (lam/m)*np.concatenate(([0],theta[1:]))"
   ]
  },
  {
   "cell_type": "code",
   "execution_count": 33,
   "metadata": {},
   "outputs": [
    {
     "name": "stdout",
     "output_type": "stream",
     "text": [
      "Cost Function at initial theta (all 0's) :\n",
      "0.69314718056\n",
      "Gradients:\n",
      "[  8.47457627e-03   1.87880932e-02   7.77711864e-05   5.03446395e-02\n",
      "   1.15013308e-02   3.76648474e-02   1.83559872e-02   7.32393391e-03\n",
      "   8.19244468e-03   2.34764889e-02   3.93486234e-02   2.23923907e-03\n",
      "   1.28600503e-02   3.09593720e-03   3.93028171e-02   1.99707467e-02\n",
      "   4.32983232e-03   3.38643902e-03   5.83822078e-03   4.47629067e-03\n",
      "   3.10079849e-02   3.10312442e-02   1.09740238e-03   6.31570797e-03\n",
      "   4.08503006e-04   7.26504316e-03   1.37646175e-03   3.87936363e-02]\n"
     ]
    }
   ],
   "source": [
    "theta = np.zeros(X.shape[1])\n",
    "print \"Cost Function at initial theta (all 0's) :\"\n",
    "print costFunctionReg(theta,X,y,lam)\n",
    "print \"Gradients:\"\n",
    "print gradientReg(theta,X,y,lam)"
   ]
  },
  {
   "cell_type": "code",
   "execution_count": 34,
   "metadata": {},
   "outputs": [
    {
     "name": "stdout",
     "output_type": "stream",
     "text": [
      "2.020441535\n",
      "[  3.46045074e-01   7.66061566e-02   1.10049993e-01   1.42117020e-01\n",
      "   7.43991239e-03   1.59639814e-01   5.86463603e-02   2.36959523e-02\n",
      "   1.75686317e-02   9.87226948e-02   8.87842709e-02   2.50975573e-03\n",
      "   3.34819937e-02   1.09754196e-03   1.15203182e-01   5.04807645e-02\n",
      "   1.02295113e-02   8.81865218e-03   1.50520786e-02   6.65581097e-03\n",
      "   9.01066541e-02   6.48086550e-02   2.03989264e-03   1.42310951e-02\n",
      "   5.73747746e-04   1.71609001e-02  -2.43784101e-04   9.75374635e-02]\n"
     ]
    }
   ],
   "source": [
    "print costFunctionReg(np.ones(X.shape[1]),X,y,10)\n",
    "print gradientReg(np.ones(X.shape[1]),X,y,10)"
   ]
  },
  {
   "cell_type": "code",
   "execution_count": 35,
   "metadata": {},
   "outputs": [
    {
     "name": "stdout",
     "output_type": "stream",
     "text": [
      "Optimization terminated successfully.\n",
      "         Current function value: 0.529003\n",
      "         Iterations: 47\n",
      "         Function evaluations: 48\n",
      "         Gradient evaluations: 48\n",
      "[ 1.27268739  0.62557016  1.1809665  -2.01919822 -0.91761468 -1.43194199\n",
      "  0.12375921 -0.36513086 -0.35703388 -0.17485805 -1.45843772 -0.05129676\n",
      " -0.61603963 -0.2746414  -1.19282569 -0.24270336 -0.20570022 -0.04499768\n",
      " -0.27782709 -0.29525851 -0.45613294 -1.04377851  0.02762813 -0.29265642\n",
      "  0.01543393 -0.32759318 -0.14389199 -0.92460119]\n"
     ]
    }
   ],
   "source": [
    "opt_theta = opt.fmin_bfgs(f=costFunctionReg, x0=theta, fprime=gradientReg, args=(X,y,lam))\n",
    "print opt_theta"
   ]
  },
  {
   "cell_type": "code",
   "execution_count": 36,
   "metadata": {},
   "outputs": [
    {
     "data": {
      "text/plain": [
       "<matplotlib.contour.QuadContourSet at 0x114db2f10>"
      ]
     },
     "execution_count": 36,
     "metadata": {},
     "output_type": "execute_result"
    },
    {
     "data": {
      "image/png": "[encoded data removed]",
      "text/plain": [
       "<matplotlib.figure.Figure at 0x1149fcc90>"
      ]
     },
     "metadata": {},
     "output_type": "display_data"
    }
   ],
   "source": [
    "u = np.linspace(-1, 1.5, 50)\n",
    "v = np.linspace(-1, 1.5, 50)\n",
    "z = np.zeros((len(u), len(v)))\n",
    "for i in range(len(u)):\n",
    "    for j in range(len(v)):\n",
    "        z[i, j] = (mapFeature(np.array(u[i]), np.array(v[j]),6).dot(opt_theta))\n",
    "        \n",
    "z = z.T\n",
    "\n",
    "plt.scatter(X[pos,1],X[pos,2],marker='+',color='b')\n",
    "plt.scatter(X[neg,1],X[neg,2],marker='o',color='r')\n",
    "plt.xlabel(\"Exam 1 score\")\n",
    "plt.ylabel('Exam 2 score')\n",
    "\n",
    "plt.contour(u,v,z,levels=[0])"
   ]
  },
  {
   "cell_type": "code",
   "execution_count": 37,
   "metadata": {},
   "outputs": [
    {
     "name": "stdout",
     "output_type": "stream",
     "text": [
      "Train Accuracy: \n",
      "83.0508474576\n"
     ]
    }
   ],
   "source": [
    "p = predict(opt_theta,X)\n",
    "print \"Train Accuracy: \"\n",
    "print np.mean(p==y)*100"
   ]
  },
  {
   "cell_type": "code",
   "execution_count": null,
   "metadata": {
    "collapsed": true
   },
   "outputs": [],
   "source": []
  }
 ],
 "metadata": {
  "kernelspec": {
   "display_name": "CourseraML",
   "language": "python",
   "name": "courseraml"
  },
  "language_info": {
   "codemirror_mode": {
    "name": "ipython",
    "version": 2
   },
   "file_extension": ".py",
   "mimetype": "text/x-python",
   "name": "python",
   "nbconvert_exporter": "python",
   "pygments_lexer": "ipython2",
   "version": "2.7.13"
  }
 },
 "nbformat": 4,
 "nbformat_minor": 2
}
