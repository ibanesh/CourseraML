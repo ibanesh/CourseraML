{
 "cells": [
  {
   "cell_type": "code",
   "execution_count": 1,
   "metadata": {
    "collapsed": true
   },
   "outputs": [],
   "source": [
    "import numpy as np\n",
    "import pandas as pd\n",
    "import matplotlib.pyplot as plt\n",
    "import scipy.optimize as opt\n",
    "import scipy.io as sio"
   ]
  },
  {
   "cell_type": "code",
   "execution_count": 2,
   "metadata": {
    "collapsed": true
   },
   "outputs": [],
   "source": [
    "def sigmoid(z):\n",
    "    return 1.0/(1+np.exp(-z))\n",
    "    \n",
    "    \n",
    "def costFunctionReg(theta,X,y,lam):\n",
    "    h = np.squeeze(sigmoid(X.dot(theta)))\n",
    "    m = X.shape[0]\n",
    "    return (1.0/m)*(-y.dot(np.log(h))-(1-y).dot(np.log(1-h))) + ((lam/(2.0*m))*(sum(theta[1:]**2)))\n",
    "\n",
    "\n",
    "def gradientReg(theta,X,y,lam):\n",
    "    m = X.shape[0]\n",
    "    h = np.squeeze(sigmoid(X.dot(theta)))\n",
    "    return (1.0/m)*(X.T.dot(h-y)) + (lam/float(m))*np.concatenate(([0],theta[1:]))"
   ]
  },
  {
   "cell_type": "code",
   "execution_count": 3,
   "metadata": {},
   "outputs": [
    {
     "name": "stdout",
     "output_type": "stream",
     "text": [
      "Cost : \n",
      "2.53481939611\n",
      "Gradient : \n",
      "[ 0.14656137 -0.54855841  0.72472227  1.39800296]\n"
     ]
    }
   ],
   "source": [
    "theta_t = np.array([-2,-1,1,2])\n",
    "X_t = np.concatenate((np.ones([5,1]),np.reshape(np.arange(1,16),[3,5]).T/10.0),1)\n",
    "y_t = np.array([1,0,1,0,1]) >= 0.5\n",
    "lambda_t = 3\n",
    "J = costFunctionReg(theta_t,X_t,y_t,lambda_t)\n",
    "grad = gradientReg(theta_t,X_t,y_t,lambda_t)\n",
    "print \"Cost : \"\n",
    "print J\n",
    "print \"Gradient : \"\n",
    "print grad"
   ]
  },
  {
   "cell_type": "code",
   "execution_count": 4,
   "metadata": {
    "collapsed": true
   },
   "outputs": [],
   "source": [
    "def oneVsAll(X,y,num_labels,lam):\n",
    "    m = X.shape[0]\n",
    "    n = X.shape[1]\n",
    "    \n",
    "    all_theta = np.zeros([num_labels,n+1])\n",
    "    X = np.concatenate((np.ones([m,1]),X),1)\n",
    "    initial_theta = np.zeros(n+1)\n",
    "    for c in xrange(num_labels): #xrange(num_labels):\n",
    "        all_theta[c,:] = opt.fmin_bfgs(f=costFunctionReg,x0=initial_theta,\n",
    "                                       fprime=gradientReg,args=(X,y == c+1,lam))\n",
    "    return all_theta"
   ]
  },
  {
   "cell_type": "code",
   "execution_count": 5,
   "metadata": {},
   "outputs": [
    {
     "name": "stdout",
     "output_type": "stream",
     "text": [
      "Optimization terminated successfully.\n",
      "         Current function value: 0.013128\n",
      "         Iterations: 286\n",
      "         Function evaluations: 287\n",
      "         Gradient evaluations: 287\n",
      "Optimization terminated successfully.\n",
      "         Current function value: 0.050810\n",
      "         Iterations: 439\n",
      "         Function evaluations: 440\n",
      "         Gradient evaluations: 440\n",
      "Optimization terminated successfully.\n",
      "         Current function value: 0.057612\n",
      "         Iterations: 424\n",
      "         Function evaluations: 425\n",
      "         Gradient evaluations: 425\n",
      "Optimization terminated successfully.\n",
      "         Current function value: 0.033075\n",
      "         Iterations: 396\n",
      "         Function evaluations: 397\n",
      "         Gradient evaluations: 397\n",
      "Optimization terminated successfully.\n",
      "         Current function value: 0.054466\n",
      "         Iterations: 433\n",
      "         Function evaluations: 434\n",
      "         Gradient evaluations: 434\n",
      "Optimization terminated successfully.\n",
      "         Current function value: 0.018265\n",
      "         Iterations: 362\n",
      "         Function evaluations: 363\n",
      "         Gradient evaluations: 363\n",
      "Optimization terminated successfully.\n",
      "         Current function value: 0.030653\n",
      "         Iterations: 362\n",
      "         Function evaluations: 363\n",
      "         Gradient evaluations: 363\n",
      "Optimization terminated successfully.\n",
      "         Current function value: 0.078457\n",
      "         Iterations: 456\n",
      "         Function evaluations: 457\n",
      "         Gradient evaluations: 457\n",
      "Optimization terminated successfully.\n",
      "         Current function value: 0.071193\n",
      "         Iterations: 440\n",
      "         Function evaluations: 441\n",
      "         Gradient evaluations: 441\n",
      "Optimization terminated successfully.\n",
      "         Current function value: 0.008583\n",
      "         Iterations: 288\n",
      "         Function evaluations: 289\n",
      "         Gradient evaluations: 289\n"
     ]
    },
    {
     "data": {
      "text/plain": [
       "array([[ -3.05742380e+00,   0.00000000e+00,   0.00000000e+00, ...,\n",
       "          6.43895395e-03,   2.56062762e-08,   0.00000000e+00],\n",
       "       [ -3.72273173e+00,   0.00000000e+00,   0.00000000e+00, ...,\n",
       "          2.08725849e-02,  -2.33645428e-03,   0.00000000e+00],\n",
       "       [ -5.71335385e+00,   0.00000000e+00,   0.00000000e+00, ...,\n",
       "         -7.43878692e-05,  -3.75948675e-07,   0.00000000e+00],\n",
       "       ..., \n",
       "       [ -9.12792707e+00,   0.00000000e+00,   0.00000000e+00, ...,\n",
       "         -5.32363349e-04,   5.78078902e-05,   0.00000000e+00],\n",
       "       [ -5.62787728e+00,   0.00000000e+00,   0.00000000e+00, ...,\n",
       "         -1.11614938e-02,   8.55146010e-04,   0.00000000e+00],\n",
       "       [ -8.04970534e+00,   0.00000000e+00,   0.00000000e+00, ...,\n",
       "         -1.50925542e-04,   5.41842668e-06,   0.00000000e+00]])"
      ]
     },
     "execution_count": 5,
     "metadata": {},
     "output_type": "execute_result"
    }
   ],
   "source": [
    "mat_content = sio.loadmat('ex3data1.mat')\n",
    "X = mat_content['X']\n",
    "y = np.squeeze(mat_content['y'])\n",
    "input_layer_size = 400\n",
    "num_labels = 10\n",
    "lam = 0.1\n",
    "all_theta = oneVsAll(X,y,num_labels,lam)\n",
    "all_theta"
   ]
  },
  {
   "cell_type": "code",
   "execution_count": 6,
   "metadata": {},
   "outputs": [
    {
     "name": "stdout",
     "output_type": "stream",
     "text": [
      "Accuracy: \n",
      "96.48\n"
     ]
    }
   ],
   "source": [
    "def predictOneVsAll(all_theta, X):\n",
    "    m = X.shape[0]\n",
    "    X = np.concatenate((np.ones([m,1]),X),1)\n",
    "    return np.argmax(sigmoid(X.dot(all_theta.T)),1)+1\n",
    "\n",
    "pred = predictOneVsAll(all_theta, X)\n",
    "print \"Accuracy: \"\n",
    "print np.mean(pred == y)*100"
   ]
  },
  {
   "cell_type": "code",
   "execution_count": 7,
   "metadata": {
    "collapsed": true
   },
   "outputs": [],
   "source": [
    "#Part 2\n",
    "input_layer_size  = 400\n",
    "hidden_layer_size = 25\n",
    "num_labels = 10\n",
    "#X and y already loaded from part 1\n",
    "mat_content = sio.loadmat('ex3weights.mat')\n",
    "Theta1 = mat_content['Theta1']\n",
    "Theta2 = mat_content['Theta2']"
   ]
  },
  {
   "cell_type": "code",
   "execution_count": 8,
   "metadata": {},
   "outputs": [
    {
     "name": "stdout",
     "output_type": "stream",
     "text": [
      "Accuracy: \n",
      "97.52\n"
     ]
    }
   ],
   "source": [
    "def predict(Theta1,Theta2,X):\n",
    "    m = X.shape[0]\n",
    "    X = np.concatenate((np.ones([m,1]),X),1)\n",
    "    a2 = sigmoid(Theta1.dot(X.T))\n",
    "    a2 = np.concatenate((np.ones([1,a2.shape[1]]),a2),0)\n",
    "    h = sigmoid(Theta2.dot(a2))\n",
    "    return np.squeeze(h.argmax(0)+1)\n",
    "\n",
    "pred = predict(Theta1,Theta2,X)\n",
    "print \"Accuracy: \"\n",
    "print np.mean(pred == y)*100"
   ]
  },
  {
   "cell_type": "code",
   "execution_count": null,
   "metadata": {
    "collapsed": true
   },
   "outputs": [],
   "source": []
  }
 ],
 "metadata": {
  "kernelspec": {
   "display_name": "CourseraML",
   "language": "python",
   "name": "courseraml"
  },
  "language_info": {
   "codemirror_mode": {
    "name": "ipython",
    "version": 2
   },
   "file_extension": ".py",
   "mimetype": "text/x-python",
   "name": "python",
   "nbconvert_exporter": "python",
   "pygments_lexer": "ipython2",
   "version": "2.7.13"
  }
 },
 "nbformat": 4,
 "nbformat_minor": 2
}
