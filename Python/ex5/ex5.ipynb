{
 "cells": [
  {
   "cell_type": "code",
   "execution_count": 1,
   "metadata": {
    "collapsed": true
   },
   "outputs": [],
   "source": [
    "import numpy as np\n",
    "import pandas as pd\n",
    "import matplotlib.pyplot as plt\n",
    "import scipy.optimize as opt\n",
    "import scipy.io as sio\n",
    "%matplotlib inline"
   ]
  },
  {
   "cell_type": "code",
   "execution_count": 2,
   "metadata": {
    "collapsed": true
   },
   "outputs": [],
   "source": [
    "data = sio.loadmat('ex5data1.mat')\n",
    "Xtest = data['Xtest']\n",
    "Xval = data['Xval']\n",
    "X = data['X']\n",
    "y = data['y']\n",
    "ytest = data['ytest']\n",
    "yval = data['yval']\n",
    "\n",
    "m = X.shape[0]"
   ]
  },
  {
   "cell_type": "code",
   "execution_count": 3,
   "metadata": {},
   "outputs": [
    {
     "name": "stdout",
     "output_type": "stream",
     "text": [
      "Cost at theta = [1;1] :\n",
      "303.99319222\n",
      "Gradient:\n",
      "[ -15.30301567  598.25074417]\n"
     ]
    }
   ],
   "source": [
    "def linearRegCostFunction(theta,X,y,lam):\n",
    "    m = X.shape[0]\n",
    "    h = X.dot(theta) - np.squeeze(y)\n",
    "    J = (1.0/(2*m))*(h.T.dot(h)) + ((lam/(2.0*m))*theta[1:].dot(theta[1:]))\n",
    "    grad = (1.0/m)*(X.T.dot(h) + lam*np.concatenate([[0],theta[1:]]))\n",
    "    return J,grad\n",
    "\n",
    "theta = np.ones(2)\n",
    "J,grad = linearRegCostFunction(theta,np.concatenate([np.ones([m,1]),X],1),y,1)\n",
    "print \"Cost at theta = [1;1] :\"\n",
    "print J\n",
    "print \"Gradient:\"\n",
    "print grad"
   ]
  },
  {
   "cell_type": "code",
   "execution_count": 4,
   "metadata": {},
   "outputs": [
    {
     "data": {
      "text/plain": [
       "[<matplotlib.lines.Line2D at 0x10e2bb110>]"
      ]
     },
     "execution_count": 4,
     "metadata": {},
     "output_type": "execute_result"
    },
    {
     "data": {
      "image/png": "[encoded data removed]",
      "text/plain": [
       "<matplotlib.figure.Figure at 0x10e2aa0d0>"
      ]
     },
     "metadata": {},
     "output_type": "display_data"
    }
   ],
   "source": [
    "def trainLinearReg(X,y,lam):\n",
    "    initial_theta = np.ones(X.shape[1])\n",
    "    theta = opt.minimize(fun=linearRegCostFunction,x0 = initial_theta,args=(X,y,lam),method='TNC', jac=True, options={'maxiter': 200} )\n",
    "    return theta\n",
    "\n",
    "lam = 0\n",
    "X1 = np.concatenate([np.ones([X.shape[0],1]),X],1)\n",
    "res = trainLinearReg(X1,y,lam)\n",
    "theta = res.x\n",
    "plt.plot(X,y,'rx')\n",
    "\n",
    "X_plt = np.ones([2,2])\n",
    "X_plt[0,1] = np.min(X)\n",
    "X_plt[1,1] = np.max(X)\n",
    "h_plt = X_plt.dot(theta)\n",
    "\n",
    "plt.plot(X_plt[:,1],h_plt)"
   ]
  },
  {
   "cell_type": "code",
   "execution_count": 5,
   "metadata": {},
   "outputs": [
    {
     "name": "stdout",
     "output_type": "stream",
     "text": [
      "[  8.63153419e-18   8.37104465e-18   3.28659505e+00   2.84267769e+00\n",
      "   1.31540488e+01   1.94439625e+01   2.00985217e+01   1.81728587e+01\n",
      "   2.26094054e+01   2.32614616e+01   2.43172496e+01   2.23739065e+01]\n",
      "[ 169.87070841  110.30036585   45.01023123   48.36891147   35.86516421\n",
      "   33.82996175   31.97098573   30.86244629   31.13599806   28.93620722\n",
      "   29.55143198   29.4338178 ]\n"
     ]
    },
    {
     "data": {
      "text/plain": [
       "[<matplotlib.lines.Line2D at 0x10e4ba790>,\n",
       " <matplotlib.lines.Line2D at 0x10e28ef50>]"
      ]
     },
     "execution_count": 5,
     "metadata": {},
     "output_type": "execute_result"
    },
    {
     "data": {
      "image/png": "[encoded data removed]",
      "text/plain": [
       "<matplotlib.figure.Figure at 0x10e2aa150>"
      ]
     },
     "metadata": {},
     "output_type": "display_data"
    }
   ],
   "source": [
    "def learningCurve(X,y,Xval,yval,lam):\n",
    "    m = X.shape[0]\n",
    "    error_train = np.zeros(m)\n",
    "    error_val = np.zeros(m)\n",
    "    for i in xrange(m):\n",
    "        res = trainLinearReg(X[:i+1],y[:i+1],lam)\n",
    "        theta_train = res.x\n",
    "        error_train[i], buf =  linearRegCostFunction(theta_train,X[:i+1],y[:i+1],0)\n",
    "        error_val[i], buf = linearRegCostFunction(theta_train,Xval,yval,0)\n",
    "    return error_train,error_val\n",
    "\n",
    "lam = 0\n",
    "error_train,error_val = learningCurve(np.concatenate([np.ones([m,1]),X],1),y,np.concatenate([np.ones([Xval.shape[0],1]),Xval],1),yval,lam)\n",
    "print error_train\n",
    "print error_val\n",
    "plt.plot(np.arange(1,m+1),error_train,np.arange(1,m+1),error_val)"
   ]
  },
  {
   "cell_type": "code",
   "execution_count": 6,
   "metadata": {},
   "outputs": [
    {
     "name": "stdout",
     "output_type": "stream",
     "text": [
      "Normalized training example 1: \n",
      "[ 1.         -0.36214078 -0.75508669  0.18222588 -0.70618991  0.30661792\n",
      " -0.59087767  0.3445158  -0.50848117]\n"
     ]
    }
   ],
   "source": [
    "def polyFeatures(X,p):\n",
    "    res = X\n",
    "    for i in xrange(2,p+1):\n",
    "        res = np.column_stack([res,X**i]) #column stack seems to work even if the input vector is in (x,)  size form\n",
    "    return res\n",
    "\n",
    "\n",
    "def featureNormalize(X):\n",
    "    mu = X.mean(0)\n",
    "    X = X - mu\n",
    "    std = X.std(0,ddof=1)\n",
    "    X = X/std\n",
    "    return X,mu,std\n",
    "    \n",
    "p=8\n",
    "Xpoly = polyFeatures(X,p)\n",
    "Xpoly,mu,std = featureNormalize(Xpoly)\n",
    "Xpoly = np.concatenate([np.ones([Xpoly.shape[0],1]),Xpoly],1)\n",
    "\n",
    "Xpoly_test = polyFeatures(Xtest,p)\n",
    "Xpoly_test = Xpoly_test - mu\n",
    "Xpoly_test = Xpoly_test/std\n",
    "Xpoly_test = np.concatenate([np.ones([Xpoly_test.shape[0],1]),Xpoly_test],1)\n",
    "\n",
    "Xpoly_val = polyFeatures(Xval,p)\n",
    "Xpoly_val = Xpoly_val - mu\n",
    "Xpoly_val = Xpoly_val/std\n",
    "Xpoly_val = np.concatenate([np.ones([Xpoly_val.shape[0],1]),Xpoly_val],1)\n",
    "\n",
    "print \"Normalized training example 1: \"\n",
    "print Xpoly[0,:]"
   ]
  },
  {
   "cell_type": "code",
   "execution_count": 7,
   "metadata": {},
   "outputs": [
    {
     "data": {
      "image/png": "[encoded data removed]",
      "text/plain": [
       "<matplotlib.figure.Figure at 0x10dd07b10>"
      ]
     },
     "metadata": {},
     "output_type": "display_data"
    }
   ],
   "source": [
    "def plotFit(min_x,max_x,mu,sigma,theta,p):\n",
    "    x = np.arange(min_x-15,max_x+25,0.05)\n",
    "    X_poly = polyFeatures(x,p)\n",
    "    X_poly = X_poly - mu\n",
    "    X_poly = X_poly/sigma\n",
    "    X_poly = np.column_stack([np.ones([x.shape[0],1]),X_poly])\n",
    "    plt.plot(x, X_poly.dot(theta), '--', lw=2)\n",
    "    \n",
    "lam = 0\n",
    "res = trainLinearReg(Xpoly,y,lam)\n",
    "theta = res.x\n",
    "plt.plot(X,y,'rx')\n",
    "plotFit(np.min(X),np.max(X),mu,std,theta,p)"
   ]
  },
  {
   "cell_type": "code",
   "execution_count": 8,
   "metadata": {},
   "outputs": [
    {
     "data": {
      "text/plain": [
       "[<matplotlib.lines.Line2D at 0x10e700d50>,\n",
       " <matplotlib.lines.Line2D at 0x10e2b1c90>]"
      ]
     },
     "execution_count": 8,
     "metadata": {},
     "output_type": "execute_result"
    },
    {
     "data": {
      "image/png": "[encoded data removed]",
      "text/plain": [
       "<matplotlib.figure.Figure at 0x10e313110>"
      ]
     },
     "metadata": {},
     "output_type": "display_data"
    }
   ],
   "source": [
    "lam = 0\n",
    "error_train,error_val = learningCurve(Xpoly,y,Xpoly_val,yval,lam)\n",
    "plt.plot(np.arange(1,m+1),error_train,np.arange(1,m+1),error_val)"
   ]
  },
  {
   "cell_type": "code",
   "execution_count": 9,
   "metadata": {},
   "outputs": [
    {
     "name": "stdout",
     "output_type": "stream",
     "text": [
      "[  0.0324343    0.1125226    0.17088805   0.22149861   0.28184314\n",
      "   0.45932547   0.92169338   2.0761872    4.90135006  16.09221727]\n",
      "[ 31.67545153   9.81942097  16.29215076  16.94267805  12.83067966\n",
      "   7.58676122   4.63697439   4.26062248   3.82290635   9.94551086]\n"
     ]
    },
    {
     "data": {
      "text/plain": [
       "[<matplotlib.lines.Line2D at 0x10f851a10>,\n",
       " <matplotlib.lines.Line2D at 0x10e719f90>]"
      ]
     },
     "execution_count": 9,
     "metadata": {},
     "output_type": "execute_result"
    },
    {
     "data": {
      "image/png": "[encoded data removed]",
      "text/plain": [
       "<matplotlib.figure.Figure at 0x10e2f0650>"
      ]
     },
     "metadata": {},
     "output_type": "display_data"
    }
   ],
   "source": [
    "def validationCurve(X,y,Xval,yval):\n",
    "    lambda_vec = np.array([0, 0.001, 0.003, 0.01, 0.03, 0.1, 0.3, 1, 3, 10])\n",
    "    error_train = np.zeros(lambda_vec.size)\n",
    "    error_val = np.zeros(lambda_vec.size)\n",
    "    for i in xrange(lambda_vec.size):\n",
    "        lam = lambda_vec[i]\n",
    "        res = trainLinearReg(X,y,lam)\n",
    "        theta_train = res.x\n",
    "        error_train[i],buf = linearRegCostFunction(theta_train,X,y,0)\n",
    "        error_val[i],buf = linearRegCostFunction(theta_train,Xval,yval,0)\n",
    "    return lambda_vec,error_train,error_val\n",
    "\n",
    "lam_vec,error_train,error_val = validationCurve(Xpoly,y,Xpoly_val,yval)\n",
    "print error_train\n",
    "print error_val\n",
    "\n",
    "plt.plot(lam_vec,error_train,lam_vec,error_val)"
   ]
  },
  {
   "cell_type": "code",
   "execution_count": 10,
   "metadata": {},
   "outputs": [
    {
     "name": "stdout",
     "output_type": "stream",
     "text": [
      "Test error:\n",
      "3.85988767389\n"
     ]
    }
   ],
   "source": [
    "lam = 3\n",
    "res = trainLinearReg(Xpoly,y,lam)\n",
    "theta_train = res.x\n",
    "error_test, buf = linearRegCostFunction(theta_train,Xpoly_test,ytest,0)\n",
    "print \"Test error:\"\n",
    "print error_test"
   ]
  },
  {
   "cell_type": "code",
   "execution_count": null,
   "metadata": {
    "collapsed": true
   },
   "outputs": [],
   "source": []
  }
 ],
 "metadata": {
  "kernelspec": {
   "display_name": "CourseraML",
   "language": "python",
   "name": "courseraml"
  },
  "language_info": {
   "codemirror_mode": {
    "name": "ipython",
    "version": 2
   },
   "file_extension": ".py",
   "mimetype": "text/x-python",
   "name": "python",
   "nbconvert_exporter": "python",
   "pygments_lexer": "ipython2",
   "version": "2.7.13"
  }
 },
 "nbformat": 4,
 "nbformat_minor": 2
}
